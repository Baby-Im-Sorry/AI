{
 "cells": [
  {
   "cell_type": "code",
   "execution_count": 1,
   "metadata": {},
   "outputs": [],
   "source": [
    "from ultralytics import YOLO\n",
    "import cv2\n",
    "import datetime\n",
    "import numpy as np\n",
    "from collections import defaultdict\n",
    "import ultralytics\n",
    "import os\n",
    "import urllib\n",
    "import sys"
   ]
  },
  {
   "cell_type": "code",
   "execution_count": 2,
   "metadata": {},
   "outputs": [],
   "source": [
    "# Yolov8 Class list --------------------------------\n",
    "\n",
    "Yolo_classes = {\n",
    " 0: u'person',\n",
    " 1: u'bicycle',\n",
    " 2: u'car',\n",
    " 3: u'motorcycle',\n",
    " 4: u'airplane',\n",
    " 5: u'bus',\n",
    " 6: u'train',\n",
    " 7: u'truck',\n",
    " 8: u'boat',\n",
    " 9: u'traffic light',\n",
    " 10: u'fire hydrant',\n",
    " 11: u'stop sign',\n",
    " 12: u'parking meter',\n",
    " 13: u'bench',\n",
    " 14: u'bird',\n",
    " 15: u'cat',\n",
    " 16: u'dog',\n",
    " 17: u'horse',\n",
    " 18: u'sheep',\n",
    " 19: u'cow',\n",
    " 20: u'elephant',\n",
    " 21: u'bear',\n",
    " 22: u'zebra',\n",
    " 23: u'giraffe',\n",
    " 24: u'backpack',\n",
    " 25: u'umbrella',\n",
    " 26: u'handbag',\n",
    " 27: u'tie',\n",
    " 28: u'suitcase',\n",
    " 29: u'frisbee',\n",
    " 30: u'skis',\n",
    " 31: u'snowboard',\n",
    " 32: u'sports ball',\n",
    " 33: u'kite',\n",
    " 34: u'baseball bat',\n",
    " 35: u'baseball glove',\n",
    " 36: u'skateboard',\n",
    " 37: u'surfboard',\n",
    " 38: u'tennis racket',\n",
    " 39: u'bottle',\n",
    " 40: u'wine glass',\n",
    " 41: u'cup',\n",
    " 42: u'fork',\n",
    " 43: u'knife',\n",
    " 44: u'spoon',\n",
    " 45: u'bowl',\n",
    " 46: u'banana',\n",
    " 47: u'apple',\n",
    " 48: u'sandwich',\n",
    " 49: u'orange',\n",
    " 50: u'broccoli',\n",
    " 51: u'carrot',\n",
    " 52: u'hot dog',\n",
    " 53: u'pizza',\n",
    " 54: u'donut',\n",
    " 55: u'cake',\n",
    " 56: u'chair',\n",
    " 57: u'couch',\n",
    " 58: u'potted plant',\n",
    " 59: u'bed',\n",
    " 60: u'dining table',\n",
    " 61: u'toilet',\n",
    " 62: u'tv',\n",
    " 63: u'laptop',\n",
    " 64: u'mouse',\n",
    " 65: u'remote',\n",
    " 66: u'keyboard',\n",
    " 67: u'cell phone',\n",
    " 68: u'microwave',\n",
    " 69: u'oven',\n",
    " 70: u'toaster',\n",
    " 71: u'sink',\n",
    " 72: u'refrigerator',\n",
    " 73: u'book',\n",
    " 74: u'clock',\n",
    " 75: u'vase',\n",
    " 76: u'scissors',\n",
    " 77: u'teddy bear',\n",
    " 78: u'hair drier',\n",
    " 79: u'toothbrush'}\n",
    "\n",
    "Yolo_value = list(Yolo_classes.values())"
   ]
  },
  {
   "cell_type": "code",
   "execution_count": 3,
   "metadata": {},
   "outputs": [],
   "source": [
    "model = YOLO('yolov8n.pt')"
   ]
  },
  {
   "cell_type": "code",
   "execution_count": 4,
   "metadata": {},
   "outputs": [
    {
     "name": "stdout",
     "output_type": "stream",
     "text": [
      "\n",
      "Found https://media.roboflow.com/notebooks/examples/dog.jpeg locally at dog.jpeg\n",
      "image 1/1 c:\\Users\\sunxo\\Study\\BIS\\AI\\AI\\dog.jpeg: 640x384 1 person, 1 car, 1 dog, 146.9ms\n",
      "Speed: 0.5ms preprocess, 146.9ms inference, 138.5ms postprocess per image at shape (1, 3, 640, 384)\n"
     ]
    }
   ],
   "source": [
    "result = model.predict(\n",
    "    source='https://media.roboflow.com/notebooks/examples/dog.jpeg',\n",
    "    conf=0.25,\n",
    "    save = False,   # detection image\n",
    "    save_txt = False # detection txt file\n",
    ")"
   ]
  },
  {
   "cell_type": "code",
   "execution_count": 5,
   "metadata": {},
   "outputs": [
    {
     "data": {
      "text/plain": [
       "['person', 'dog', 'car']"
      ]
     },
     "execution_count": 5,
     "metadata": {},
     "output_type": "execute_result"
    }
   ],
   "source": [
    "result_tensor = result[0].boxes.cls\n",
    "result_class = result_tensor.tolist()\n",
    "\n",
    "for i,j in enumerate(result_class):\n",
    "    temp = Yolo_classes.__getitem__(j)\n",
    "    result_class[i] = temp   \n",
    "    \n",
    "result_class"
   ]
  },
  {
   "cell_type": "code",
   "execution_count": 6,
   "metadata": {},
   "outputs": [
    {
     "name": "stdout",
     "output_type": "stream",
     "text": [
      "{'person': 1, 'dog': 1, 'car': 1}\n"
     ]
    }
   ],
   "source": [
    "count_class={}\n",
    "\n",
    "for i in result_class:\n",
    "    try: count_class[i] += 1\n",
    "    except: count_class[i]=1\n",
    "    \n",
    "print(count_class)"
   ]
  },
  {
   "cell_type": "code",
   "execution_count": 7,
   "metadata": {},
   "outputs": [],
   "source": [
    "for_llm = \"\"\n",
    "\n",
    "for j, k  in count_class.items():\n",
    "    for_llm += (f\"{j}는 {str(k)}개 \")"
   ]
  },
  {
   "cell_type": "code",
   "execution_count": 8,
   "metadata": {},
   "outputs": [
    {
     "data": {
      "text/plain": [
       "'person는 1개 dog는 1개 car는 1개 '"
      ]
     },
     "execution_count": 8,
     "metadata": {},
     "output_type": "execute_result"
    }
   ],
   "source": [
    "for_llm"
   ]
  },
  {
   "cell_type": "code",
   "execution_count": 9,
   "metadata": {},
   "outputs": [
    {
     "name": "stdout",
     "output_type": "stream",
     "text": [
      "현재 매장 내부에는 1명의 사람과 1마리의 개 그리고 1대의 차량이 있습니다.\n"
     ]
    }
   ],
   "source": [
    "import os\n",
    "from openai import OpenAI\n",
    "from dotenv import load_dotenv\n",
    "load_dotenv()\n",
    "\n",
    "client = OpenAI(\n",
    "    api_key=os.environ.get(\"OPENAI_API_KEY\"),\n",
    ")\n",
    "\n",
    "chat_completion = client.chat.completions.create(\n",
    "    messages=[\n",
    "        {\n",
    "            \"role\": \"user\",\n",
    "            \"content\": \"현재 매장 내부에 있는 Class들은\" + for_llm + \"이다. 지금 매장 내부의 상황을 설명해줘.\",\n",
    "        }\n",
    "    ],\n",
    "    model=\"gpt-3.5-turbo\",\n",
    ")\n",
    "\n",
    "print(chat_completion.choices[0].message.content)"
   ]
  },
  {
   "cell_type": "code",
   "execution_count": null,
   "metadata": {},
   "outputs": [],
   "source": []
  }
 ],
 "metadata": {
  "kernelspec": {
   "display_name": "base",
   "language": "python",
   "name": "python3"
  },
  "language_info": {
   "codemirror_mode": {
    "name": "ipython",
    "version": 3
   },
   "file_extension": ".py",
   "mimetype": "text/x-python",
   "name": "python",
   "nbconvert_exporter": "python",
   "pygments_lexer": "ipython3",
   "version": "3.11.5"
  }
 },
 "nbformat": 4,
 "nbformat_minor": 2
}

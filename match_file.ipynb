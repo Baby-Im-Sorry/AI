{
 "cells": [
  {
   "cell_type": "code",
   "execution_count": 2,
   "metadata": {},
   "outputs": [
    {
     "data": {
      "text/plain": [
       "1316"
      ]
     },
     "execution_count": 2,
     "metadata": {},
     "output_type": "execute_result"
    }
   ],
   "source": [
    "import glob\n",
    "import os\n",
    "\n",
    "# 기본 폴더 경로 설정\n",
    "json_folder = 'C:/Users/sunxo/STUDY/BIS/AI/data/JSON1'\n",
    "\n",
    "# 모든 JSON 파일을 찾아오는 패턴 설정\n",
    "json_pattern = os.path.join(json_folder, '**/*.json')\n",
    "\n",
    "# glob을 사용하여 파일 목록 가져오기\n",
    "json_files = glob.glob(json_pattern, recursive=True)\n",
    "\n",
    "remover = set()\n",
    "\n",
    "for i in json_files:\n",
    "    json_name = os.path.splitext(os.path.basename(i))[0]\n",
    "    remover.add(json_name)\n",
    "\n",
    "len(remover)"
   ]
  },
  {
   "cell_type": "code",
   "execution_count": 3,
   "metadata": {},
   "outputs": [
    {
     "data": {
      "text/plain": [
       "1316"
      ]
     },
     "execution_count": 3,
     "metadata": {},
     "output_type": "execute_result"
    }
   ],
   "source": [
    "# 기본 폴더 경로 설정\n",
    "image_folder = 'C:/Users/sunxo/STUDY/BIS/AI/data/images'\n",
    "\n",
    "# 모든 Image 파일을 찾아오는 패턴 설정\n",
    "images_pattern = os.path.join(image_folder, '**/*.jpg')\n",
    "\n",
    "# glob을 사용하여 파일 목록 가져오기\n",
    "images_files = glob.glob(images_pattern, recursive=True)\n",
    "\n",
    "remover1 = set()\n",
    "\n",
    "for i in images_files:\n",
    "    image_name = os.path.splitext(os.path.basename(i))[0]\n",
    "    image_name = os.path.splitext(os.path.basename(image_name))[0]\n",
    "    image_name = os.path.splitext(os.path.basename(image_name))[0]\n",
    "    remover1.add(image_name)\n",
    "\n",
    "len(remover1)\n"
   ]
  },
  {
   "cell_type": "code",
   "execution_count": 4,
   "metadata": {},
   "outputs": [],
   "source": [
    "real_remover =  remover & remover1\n",
    "\n",
    "# Image 폴더 내에 존재하지 않는 JSON 파일 제거\n",
    "for json_file in remover - real_remover:\n",
    "    json_path = os.path.join(json_folder, '**/*' f'{json_file}.json')\n",
    "    json_files_to_remove = glob.glob(json_path, recursive=True)\n",
    "    for file_path in json_files_to_remove:\n",
    "        print(file_path)\n",
    "        os.remove(file_path)\n",
    "        \n",
    "# JSON 폴더 내에 존재하지 않는 이미지 파일 제거\n",
    "for image_file in remover1 - real_remover:\n",
    "    image_path = os.path.join(image_folder,'**/*' f'{image_file}.jpg')\n",
    "    image_files_to_remove = glob.glob(image_path, recursive=True)\n",
    "    for file_path in image_files_to_remove:\n",
    "        print(file_path)\n",
    "        os.remove(file_path)"
   ]
  },
  {
   "cell_type": "code",
   "execution_count": 7,
   "metadata": {},
   "outputs": [],
   "source": [
    "import os\n",
    "import shutil\n",
    "import glob\n",
    "import random\n",
    "\n",
    "# 기본 폴더 경로 설정\n",
    "json_folder = 'C:/Users/sunxo/STUDY/BIS/AI/data/JSON1'\n",
    "image_folder = 'C:/Users/sunxo/STUDY/BIS/AI/data/images'\n",
    "output_folder = './data'\n",
    "\n",
    "# 모든 JSON 파일과 Image 파일을 찾아오는 패턴 설정\n",
    "json_pattern = os.path.join(json_folder, '**/*.json')\n",
    "image_pattern = os.path.join(image_folder, '**/*.jpg')\n",
    "\n",
    "# glob을 사용하여 파일 목록 가져오기\n",
    "json_files = glob.glob(json_pattern, recursive=True)\n",
    "image_files = glob.glob(image_pattern, recursive=True)\n",
    "\n",
    "# 세트를 나눌 비율 설정\n",
    "train_ratio = 0.8\n",
    "test_ratio = 0.1\n",
    "validation_ratio = 0.1\n",
    "\n",
    "# 파일을 섞기 위해 랜덤 시드 설정\n",
    "random.seed(42)\n",
    "random.shuffle(json_files)\n",
    "random.shuffle(image_files)\n",
    "\n",
    "# 파일을 나누기\n",
    "total_json_files = len(json_files)\n",
    "total_image_files = len(image_files)\n",
    "\n",
    "train_split_json = int(train_ratio * total_json_files)\n",
    "test_split_json = int(test_ratio * total_json_files)\n",
    "train_split_image = int(train_ratio * total_image_files)\n",
    "test_split_image = int(test_ratio * total_image_files)\n",
    "\n",
    "# 파일을 이동할 폴더 생성\n",
    "train_json_folder = os.path.join(output_folder, 'train', 'label')\n",
    "test_json_folder = os.path.join(output_folder, 'test', 'label')\n",
    "validation_json_folder = os.path.join(output_folder, 'validation', 'label')\n",
    "\n",
    "train_image_folder = os.path.join(output_folder, 'train', 'images')\n",
    "test_image_folder = os.path.join(output_folder, 'test', 'images')\n",
    "validation_image_folder = os.path.join(output_folder, 'validation', 'images')\n",
    "\n",
    "os.makedirs(train_json_folder, exist_ok=True)\n",
    "os.makedirs(test_json_folder, exist_ok=True)\n",
    "os.makedirs(validation_json_folder, exist_ok=True)\n",
    "os.makedirs(train_image_folder, exist_ok=True)\n",
    "os.makedirs(test_image_folder, exist_ok=True)\n",
    "os.makedirs(validation_image_folder, exist_ok=True)\n",
    "\n",
    "# JSON 파일 이동\n",
    "for i, json_file in enumerate(json_files):\n",
    "    if i < train_split_json:\n",
    "        destination_folder = train_json_folder\n",
    "    elif i < (train_split_json + test_split_json):\n",
    "        destination_folder = test_json_folder\n",
    "    else:\n",
    "        destination_folder = validation_json_folder\n",
    "\n",
    "    # 파일 이동\n",
    "    shutil.move(json_file, os.path.join(destination_folder, os.path.basename(json_file)))\n",
    "\n",
    "# Image 파일 이동\n",
    "for i, image_file in enumerate(image_files):\n",
    "    if i < train_split_image:\n",
    "        destination_folder = train_image_folder\n",
    "    elif i < (train_split_image + test_split_image):\n",
    "        destination_folder = test_image_folder\n",
    "    else:\n",
    "        destination_folder = validation_image_folder\n",
    "\n",
    "    # 파일 이동\n",
    "    shutil.move(image_file, os.path.join(destination_folder, os.path.basename(image_file)))\n"
   ]
  }
 ],
 "metadata": {
  "kernelspec": {
   "display_name": "base",
   "language": "python",
   "name": "python3"
  },
  "language_info": {
   "codemirror_mode": {
    "name": "ipython",
    "version": 3
   },
   "file_extension": ".py",
   "mimetype": "text/x-python",
   "name": "python",
   "nbconvert_exporter": "python",
   "pygments_lexer": "ipython3",
   "version": "3.11.5"
  }
 },
 "nbformat": 4,
 "nbformat_minor": 2
}

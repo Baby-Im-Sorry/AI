{
 "cells": [
  {
   "cell_type": "code",
   "execution_count": 2,
   "metadata": {},
   "outputs": [],
   "source": [
    "from PIL import Image, ImageDraw\n",
    "import json"
   ]
  },
  {
   "cell_type": "code",
   "execution_count": 16,
   "metadata": {},
   "outputs": [],
   "source": [
    "# 이미지와 JSON 파일 이름이 같다고 가정\n",
    "base_filename = \"C_3_9_1_BU_DYA_08-02_13-36-38_CA_RGB_DF2_M2_74\"\n",
    "\n",
    "# JSON 파일 불러오기\n",
    "json_filename =  r\"C:/Users/sunxo/Study/BIS/data/JSON1/방화/C_3_9_1_BU_DYA_08-02_13-36-38_CA_RGB_DF2_M2/\" + f\"{base_filename}.json\"\n",
    "with open(json_filename, \"r\") as json_file:\n",
    "    json_data = json.load(json_file)\n",
    "base_filename = \"C_3_9_1_BU_DYA_08-02_13-36-38_CA_RGB_DF2_M2.mp4_74\"\n",
    "\n",
    "\n",
    "# 이미지 파일 경로\n",
    "image_filename = r\"C:/Users/sunxo/Study/BIS/data/images/fire/C_3_9_1_BU_DYA_08-02_13-36-38_CA_RGB_DF2_M2.mp4/\" + f\"{base_filename}.jpg\"\n",
    "\n",
    "# 이미지 불러오기\n",
    "image = Image.open(image_filename)\n",
    "\n",
    "# ImageDraw 객체 생성\n",
    "draw = ImageDraw.Draw(image)\n",
    "\n",
    "# 좌표 추출 및 박스 그리기\n",
    "xtl = float(json_data[\"xtl\"])\n",
    "ytl = float(json_data[\"ytl\"])\n",
    "xbr = float(json_data[\"xbr\"])\n",
    "ybr = float(json_data[\"ybr\"])\n",
    "\n",
    "# 박스 그리기\n",
    "draw.rectangle([xtl, ytl, xbr, ybr], outline=\"red\", width=2)\n",
    "\n",
    "# 결과 이미지 저장 (선택사항)\n",
    "output_image_filename = f\"{base_filename}_output.jpg\"\n",
    "image.save(output_image_filename)\n",
    "\n",
    "# 결과 이미지를 화면에 표시 (선택사항)\n",
    "image.show()"
   ]
  }
 ],
 "metadata": {
  "kernelspec": {
   "display_name": "base",
   "language": "python",
   "name": "python3"
  },
  "language_info": {
   "codemirror_mode": {
    "name": "ipython",
    "version": 3
   },
   "file_extension": ".py",
   "mimetype": "text/x-python",
   "name": "python",
   "nbconvert_exporter": "python",
   "pygments_lexer": "ipython3",
   "version": "3.11.5"
  }
 },
 "nbformat": 4,
 "nbformat_minor": 2
}

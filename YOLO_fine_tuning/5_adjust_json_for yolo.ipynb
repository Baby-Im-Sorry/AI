{
 "cells": [
  {
   "cell_type": "code",
   "execution_count": 1,
   "metadata": {},
   "outputs": [],
   "source": [
    "import json\n",
    "import os\n",
    "import glob\n",
    "\n",
    "base_folder = 'C:/Users/sunxo/Study/BIS/data/data'\n",
    "json_pattern = os.path.join(base_folder, '**/*.json')\n",
    "json_files = glob.glob(json_pattern, recursive=True)\n",
    "\n",
    "img_width = 1920\n",
    "img_height = 1080\n",
    "\n",
    "for json_file in json_files:\n",
    "    with open(json_file, 'r', encoding='utf-8') as file:\n",
    "        data = json.load(file)\n",
    "\n",
    "    # 'frame' 키 삭제\n",
    "    if 'frame' in data:\n",
    "        del data['frame']\n",
    "\n",
    "    # 'gender' 값을 0 또는 1로 대응\n",
    "    if 'gender' in data:\n",
    "        data['gender'] = 0 if data['gender'] == 'male' else 1\n",
    "\n",
    "    # 'xtl', 'ytl', 'xbr', 'ybr' 값을 'x_center', 'y_center', 'width', 'height'로 변환 및 정규화\n",
    "    if all(key in data for key in ['xtl', 'ytl', 'xbr', 'ybr']):\n",
    "        x_center = float(data['xtl']) / img_width + (float(data['xbr']) - float(data['xtl'])) / (2 * img_width)\n",
    "        y_center = float(data['ytl']) / img_height + (float(data['ybr']) - float(data['ytl'])) / (2 * img_height)\n",
    "        width = (float(data['xbr']) - float(data['xtl'])) / img_width\n",
    "        height = (float(data['ybr']) - float(data['ytl'])) / img_height\n",
    "\n",
    "        data['x_center'] = x_center\n",
    "        data['y_center'] = y_center\n",
    "        data['width'] = width\n",
    "        data['height'] = height\n",
    "\n",
    "        del data['xtl']\n",
    "        del data['ytl']\n",
    "        del data['xbr']\n",
    "        del data['ybr']\n",
    "\n",
    "    # JSON을 txt 파일로 저장\n",
    "    txt_file = os.path.splitext(json_file)[0] + '.txt'\n",
    "    with open(txt_file, 'w', encoding='utf-8') as txt_out:\n",
    "        txt_out.write(f\"{data['gender']} {data['x_center']} {data['y_center']} {data['width']} {data['height']}\\n\")\n",
    "\n",
    "    # JSON 파일 삭제\n",
    "    os.remove(json_file)\n"
   ]
  },
  {
   "cell_type": "code",
   "execution_count": null,
   "metadata": {},
   "outputs": [],
   "source": []
  }
 ],
 "metadata": {
  "kernelspec": {
   "display_name": "base",
   "language": "python",
   "name": "python3"
  },
  "language_info": {
   "codemirror_mode": {
    "name": "ipython",
    "version": 3
   },
   "file_extension": ".py",
   "mimetype": "text/x-python",
   "name": "python",
   "nbconvert_exporter": "python",
   "pygments_lexer": "ipython3",
   "version": "3.11.5"
  }
 },
 "nbformat": 4,
 "nbformat_minor": 2
}

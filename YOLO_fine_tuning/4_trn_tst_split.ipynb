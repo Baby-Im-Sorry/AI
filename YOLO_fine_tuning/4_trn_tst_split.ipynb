{
 "cells": [
  {
   "cell_type": "code",
   "execution_count": 1,
   "metadata": {},
   "outputs": [
    {
     "data": {
      "text/plain": [
       "8474"
      ]
     },
     "execution_count": 1,
     "metadata": {},
     "output_type": "execute_result"
    }
   ],
   "source": [
    "import glob\n",
    "import os\n",
    "\n",
    "# 기본 폴더 경로 설정\n",
    "json_folder = 'C:/Users/sunxo/Study/BIS/data/JSON1'\n",
    "\n",
    "# 모든 JSON 파일을 찾아오는 패턴 설정\n",
    "json_pattern = os.path.join(json_folder, '**/*.json')\n",
    "\n",
    "# glob을 사용하여 파일 목록 가져오기\n",
    "json_files = glob.glob(json_pattern, recursive=True)\n",
    "\n",
    "remover = set()\n",
    "\n",
    "for i in json_files:\n",
    "    json_name = os.path.splitext(os.path.basename(i))[0]\n",
    "    remover.add(json_name)\n",
    "\n",
    "len(remover)"
   ]
  },
  {
   "cell_type": "code",
   "execution_count": 2,
   "metadata": {},
   "outputs": [
    {
     "data": {
      "text/plain": [
       "8446"
      ]
     },
     "execution_count": 2,
     "metadata": {},
     "output_type": "execute_result"
    }
   ],
   "source": [
    "# 기본 폴더 경로 설정\n",
    "image_folder = 'C:/Users/sunxo/Study/BIS/data/images'\n",
    "\n",
    "# 모든 Image 파일을 찾아오는 패턴 설정\n",
    "images_pattern = os.path.join(image_folder, '**/*.jpg')\n",
    "\n",
    "# glob을 사용하여 파일 목록 가져오기\n",
    "images_files = glob.glob(images_pattern, recursive=True)\n",
    "\n",
    "remover1 = set()\n",
    "\n",
    "for i in images_files:\n",
    "    image_name = os.path.splitext(os.path.basename(i))[0]\n",
    "    image_name = os.path.splitext(os.path.basename(image_name))[0]\n",
    "    image_name = os.path.splitext(os.path.basename(image_name))[0]\n",
    "    remover1.add(image_name)\n",
    "\n",
    "len(remover1)\n"
   ]
  },
  {
   "cell_type": "code",
   "execution_count": 3,
   "metadata": {},
   "outputs": [
    {
     "name": "stdout",
     "output_type": "stream",
     "text": [
      "C:/Users/sunxo/Study/BIS/data/JSON1\\JSON1\\절도\\C_3_12_5_BU_SMC_08-07_13-37-21_CA_RGB_DF2_F1\\C_3_12_5_BU_SMC_08-07_13-37-21_CA_RGB_DF2_F1_110.json\n",
      "C:/Users/sunxo/Study/BIS/data/JSON1\\JSON1\\전도\\C_3_7_9_BU_SMB_09-02_12-53-55_CB_RGB_DF2_M2\\C_3_7_9_BU_SMB_09-02_12-53-55_CB_RGB_DF2_M2_112.json\n",
      "C:/Users/sunxo/Study/BIS/data/JSON1\\JSON1\\전도\\C_3_7_28_BU_SYA_10-06_11-22-22_CC_RGB_DF2_F3\\C_3_7_28_BU_SYA_10-06_11-22-22_CC_RGB_DF2_F3_122.json\n",
      "C:/Users/sunxo/Study/BIS/data/JSON1\\JSON1\\흡연\\C_3_10_33_BU_SMB_09-02_16-56-33_CA_RGB_DF2_F3\\C_3_10_33_BU_SMB_09-02_16-56-33_CA_RGB_DF2_F3_13.json\n",
      "C:/Users/sunxo/Study/BIS/data/JSON1\\JSON1\\흡연\\C_3_10_26_BU_DYB_10-17_15-06-01_CD_RGB_DF2_F3\\C_3_10_26_BU_DYB_10-17_15-06-01_CD_RGB_DF2_F3_81.json\n",
      "C:/Users/sunxo/Study/BIS/data/JSON1\\JSON1\\전도\\C_3_7_28_BU_SYA_10-06_11-22-22_CC_RGB_DF2_F3\\C_3_7_28_BU_SYA_10-06_11-22-22_CC_RGB_DF2_F3_123.json\n",
      "C:/Users/sunxo/Study/BIS/data/JSON1\\JSON1\\절도\\C_3_12_39_BU_SMC_10-14_11-41-49_CC_RGB_DF2_M2\\C_3_12_39_BU_SMC_10-14_11-41-49_CC_RGB_DF2_M2_83.json\n",
      "C:/Users/sunxo/Study/BIS/data/JSON1\\JSON1\\흡연\\C_3_10_25_BU_SMB_09-02_17-31-33_CC_RGB_DF2_M3\\C_3_10_25_BU_SMB_09-02_17-31-33_CC_RGB_DF2_M3_54.json\n",
      "C:/Users/sunxo/Study/BIS/data/JSON1\\JSON1\\흡연\\C_3_10_22_BU_SYA_10-06_13-47-01_CD_RGB_DF2_M3\\C_3_10_22_BU_SYA_10-06_13-47-01_CD_RGB_DF2_M3_20.json\n",
      "C:/Users/sunxo/Study/BIS/data/JSON1\\JSON1\\전도\\C_3_7_8_BU_SMB_09-02_12-51-37_CC_RGB_DF2_M2\\C_3_7_8_BU_SMB_09-02_12-51-37_CC_RGB_DF2_M2_71.json\n",
      "C:/Users/sunxo/Study/BIS/data/JSON1\\JSON1\\흡연\\C_3_10_3_BU_SYB_09-28_16-07-01_CD_RGB_DF2_M2\\C_3_10_3_BU_SYB_09-28_16-07-01_CD_RGB_DF2_M2_110.json\n",
      "C:/Users/sunxo/Study/BIS/data/JSON1\\JSON1\\흡연\\C_3_10_22_BU_SYA_10-06_13-47-01_CD_RGB_DF2_M3\\C_3_10_22_BU_SYA_10-06_13-47-01_CD_RGB_DF2_M3_21.json\n",
      "C:/Users/sunxo/Study/BIS/data/JSON1\\JSON1\\흡연\\C_3_10_22_BU_DYB_10-17_15-02-32_CC_RGB_DF2_F3\\C_3_10_22_BU_DYB_10-17_15-02-32_CC_RGB_DF2_F3_21.json\n",
      "C:/Users/sunxo/Study/BIS/data/JSON1\\JSON1\\전도\\C_3_7_45_BU_DYB_10-17_10-16-49_CB_RGB_DF2_M2\\C_3_7_45_BU_DYB_10-17_10-16-49_CB_RGB_DF2_M2_127.json\n",
      "C:/Users/sunxo/Study/BIS/data/JSON1\\JSON1\\전도\\C_3_7_8_BU_SMB_09-02_12-51-37_CC_RGB_DF2_M2\\C_3_7_8_BU_SMB_09-02_12-51-37_CC_RGB_DF2_M2_144.json\n",
      "C:/Users/sunxo/Study/BIS/data/JSON1\\JSON1\\흡연\\C_3_10_25_BU_SMB_09-02_17-31-33_CC_RGB_DF2_M3\\C_3_10_25_BU_SMB_09-02_17-31-33_CC_RGB_DF2_M3_53.json\n",
      "C:/Users/sunxo/Study/BIS/data/JSON1\\JSON1\\전도\\C_3_7_45_BU_DYB_10-17_10-16-49_CB_RGB_DF2_M2\\C_3_7_45_BU_DYB_10-17_10-16-49_CB_RGB_DF2_M2_126.json\n",
      "C:/Users/sunxo/Study/BIS/data/JSON1\\JSON1\\흡연\\C_3_10_22_BU_DYB_10-17_15-02-32_CC_RGB_DF2_F3\\C_3_10_22_BU_DYB_10-17_15-02-32_CC_RGB_DF2_F3_20.json\n",
      "C:/Users/sunxo/Study/BIS/data/JSON1\\JSON1\\전도\\C_3_7_9_BU_SMB_09-02_12-53-55_CB_RGB_DF2_M2\\C_3_7_9_BU_SMB_09-02_12-53-55_CB_RGB_DF2_M2_111.json\n",
      "C:/Users/sunxo/Study/BIS/data/JSON1\\JSON1\\전도\\C_3_7_8_BU_SMB_09-02_12-51-37_CC_RGB_DF2_M2\\C_3_7_8_BU_SMB_09-02_12-51-37_CC_RGB_DF2_M2_72.json\n",
      "C:/Users/sunxo/Study/BIS/data/JSON1\\JSON1\\흡연\\C_3_10_33_BU_SMB_09-02_16-56-33_CA_RGB_DF2_F3\\C_3_10_33_BU_SMB_09-02_16-56-33_CA_RGB_DF2_F3_12.json\n",
      "C:/Users/sunxo/Study/BIS/data/JSON1\\JSON1\\흡연\\C_3_10_3_BU_SYB_09-28_16-07-01_CD_RGB_DF2_M2\\C_3_10_3_BU_SYB_09-28_16-07-01_CD_RGB_DF2_M2_111.json\n",
      "C:/Users/sunxo/Study/BIS/data/JSON1\\JSON1\\절도\\C_3_12_40_BU_DYB_10-16_14-49-01_CA_RGB_DF2_M1\\C_3_12_40_BU_DYB_10-16_14-49-01_CA_RGB_DF2_M1_82.json\n",
      "C:/Users/sunxo/Study/BIS/data/JSON1\\JSON1\\절도\\C_3_12_40_BU_DYB_10-16_14-49-01_CA_RGB_DF2_M1\\C_3_12_40_BU_DYB_10-16_14-49-01_CA_RGB_DF2_M1_81.json\n",
      "C:/Users/sunxo/Study/BIS/data/JSON1\\JSON1\\흡연\\C_3_10_26_BU_DYB_10-17_15-06-01_CD_RGB_DF2_F3\\C_3_10_26_BU_DYB_10-17_15-06-01_CD_RGB_DF2_F3_80.json\n",
      "C:/Users/sunxo/Study/BIS/data/JSON1\\JSON1\\절도\\C_3_12_39_BU_SMC_10-14_11-41-49_CC_RGB_DF2_M2\\C_3_12_39_BU_SMC_10-14_11-41-49_CC_RGB_DF2_M2_82.json\n",
      "C:/Users/sunxo/Study/BIS/data/JSON1\\JSON1\\전도\\C_3_7_8_BU_SMB_09-02_12-51-37_CC_RGB_DF2_M2\\C_3_7_8_BU_SMB_09-02_12-51-37_CC_RGB_DF2_M2_143.json\n",
      "C:/Users/sunxo/Study/BIS/data/JSON1\\JSON1\\절도\\C_3_12_5_BU_SMC_08-07_13-37-21_CA_RGB_DF2_F1\\C_3_12_5_BU_SMC_08-07_13-37-21_CA_RGB_DF2_F1_111.json\n"
     ]
    }
   ],
   "source": [
    "real_remover =  remover & remover1\n",
    "\n",
    "# Image 폴더 내에 존재하지 않는 JSON 파일 제거\n",
    "for json_file in remover - real_remover:\n",
    "    json_path = os.path.join(json_folder, '**/*' f'{json_file}.json')\n",
    "    json_files_to_remove = glob.glob(json_path, recursive=True)\n",
    "    for file_path in json_files_to_remove:\n",
    "        print(file_path)\n",
    "        os.remove(file_path)\n",
    "        \n",
    "# JSON 폴더 내에 존재하지 않는 이미지 파일 제거\n",
    "for image_file in remover1 - real_remover:\n",
    "    image_path = os.path.join(image_folder,'**/*' f'{image_file}.jpg')\n",
    "    image_files_to_remove = glob.glob(image_path, recursive=True)\n",
    "    for file_path in image_files_to_remove:\n",
    "        print(file_path)\n",
    "        os.remove(file_path)"
   ]
  },
  {
   "cell_type": "code",
   "execution_count": 6,
   "metadata": {},
   "outputs": [],
   "source": [
    "import os\n",
    "import shutil\n",
    "import glob\n",
    "import random\n",
    "\n",
    "# 기본 폴더 경로 설정\n",
    "json_folder = 'C:/Users/sunxo/Study/BIS/data/JSON1'\n",
    "image_folder = 'C:/Users/sunxo/Study/BIS/data/images'\n",
    "output_folder = 'C:/Users/sunxo/Study/BIS/data/data'\n",
    "\n",
    "# 모든 JSON 파일과 Image 파일을 찾아오는 패턴 설정\n",
    "json_pattern = os.path.join(json_folder, '**/*.json')\n",
    "image_pattern = os.path.join(image_folder, '**/*.jpg')\n",
    "\n",
    "# glob을 사용하여 파일 목록 가져오기\n",
    "json_files = glob.glob(json_pattern, recursive=True)\n",
    "image_files = glob.glob(image_pattern, recursive=True)\n",
    "\n",
    "# 파일 이름을 기준으로 정렬\n",
    "json_files.sort()\n",
    "image_files.sort()\n",
    "\n",
    "# 세트를 나눌 비율 설정\n",
    "train_ratio = 0.8\n",
    "test_ratio = 0.1\n",
    "validation_ratio = 0.1\n",
    "\n",
    "# 파일을 나누기\n",
    "total_json_files = len(json_files)\n",
    "total_image_files = len(image_files)\n",
    "\n",
    "train_split_json = int(train_ratio * total_json_files)\n",
    "test_split_json = int(test_ratio * total_json_files)\n",
    "train_split_image = int(train_ratio * total_image_files)\n",
    "test_split_image = int(test_ratio * total_image_files)\n",
    "\n",
    "# 파일을 이동할 폴더 생성\n",
    "train_json_folder = os.path.join(output_folder,  'labels', 'train')\n",
    "test_json_folder = os.path.join(output_folder,  'labels', 'test')\n",
    "validation_json_folder = os.path.join(output_folder, 'labels', 'validation')\n",
    "\n",
    "train_image_folder = os.path.join(output_folder,  'images', 'train')\n",
    "test_image_folder = os.path.join(output_folder, 'images', 'test')\n",
    "validation_image_folder = os.path.join(output_folder,  'images', 'validation')\n",
    "\n",
    "# JSON 파일과 Image 파일을 같은 이름으로 매칭하여 이동\n",
    "for json_file, image_file in zip(json_files, image_files):\n",
    "    file_name = os.path.basename(json_file).replace('.json', '')\n",
    "    \n",
    "    if random.random() < train_ratio:\n",
    "        destination_folder_json = train_json_folder\n",
    "        destination_folder_image = train_image_folder\n",
    "    elif random.random() < test_ratio:\n",
    "        destination_folder_json = test_json_folder\n",
    "        destination_folder_image = test_image_folder\n",
    "    else:\n",
    "        destination_folder_json = validation_json_folder\n",
    "        destination_folder_image = validation_image_folder\n",
    "\n",
    "    # 파일 이동\n",
    "    shutil.move(json_file, os.path.join(destination_folder_json, os.path.basename(json_file)))\n",
    "    shutil.move(image_file, os.path.join(destination_folder_image, os.path.basename(image_file)))\n"
   ]
  },
  {
   "cell_type": "code",
   "execution_count": null,
   "metadata": {},
   "outputs": [],
   "source": []
  }
 ],
 "metadata": {
  "kernelspec": {
   "display_name": "base",
   "language": "python",
   "name": "python3"
  },
  "language_info": {
   "codemirror_mode": {
    "name": "ipython",
    "version": 3
   },
   "file_extension": ".py",
   "mimetype": "text/x-python",
   "name": "python",
   "nbconvert_exporter": "python",
   "pygments_lexer": "ipython3",
   "version": "3.11.5"
  }
 },
 "nbformat": 4,
 "nbformat_minor": 2
}
